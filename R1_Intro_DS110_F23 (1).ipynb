{
  "cells": [
    {
      "cell_type": "markdown",
      "metadata": {
        "id": "aJ-1NTdRriK0"
      },
      "source": [
        "1.  Try writing a line that prints a \"hello\" message."
      ]
    },
    {
      "cell_type": "code",
      "execution_count": null,
      "metadata": {
        "colab": {
          "base_uri": "https://localhost:8080/"
        },
        "id": "16mqF1GkrbSu",
        "outputId": "06078e11-74fe-46df-e036-59336dd2e80c"
      },
      "outputs": [
        {
          "output_type": "stream",
          "name": "stdout",
          "text": [
            "heyyyyyyyyyyyy\n"
          ]
        }
      ],
      "source": [
        "print(\"heyyyyyyyyyyyy\")"
      ]
    },
    {
      "cell_type": "markdown",
      "metadata": {
        "id": "Scttxs2srojl"
      },
      "source": [
        "2.  Try using the math module to find the square root of 169."
      ]
    },
    {
      "cell_type": "code",
      "execution_count": null,
      "metadata": {
        "colab": {
          "base_uri": "https://localhost:8080/"
        },
        "id": "LqojDfAYrwLR",
        "outputId": "6edf0205-88a1-4226-e911-b5b0a89521ad"
      },
      "outputs": [
        {
          "output_type": "execute_result",
          "data": {
            "text/plain": [
              "13.0"
            ]
          },
          "metadata": {},
          "execution_count": 3
        }
      ],
      "source": [
        "169 ** 0.5"
      ]
    },
    {
      "cell_type": "markdown",
      "metadata": {
        "id": "nqMo62kRr1Fk"
      },
      "source": [
        "3.  Try writing a haiku, then printing that haiku with the correct newlines."
      ]
    },
    {
      "cell_type": "code",
      "execution_count": 46,
      "metadata": {
        "colab": {
          "base_uri": "https://localhost:8080/"
        },
        "id": "ZvW_dDZisAMO",
        "outputId": "126fda74-8775-4fd4-ef87-7f5963eb7855"
      },
      "outputs": [
        {
          "output_type": "stream",
          "name": "stdout",
          "text": [
            "Refrigerator \n",
            "hey what's up i like your shirt \n",
            "refrigerator\n"
          ]
        }
      ],
      "source": [
        "print(\"Refrigerator \\nhey what's up i like your shirt \\nrefrigerator\")"
      ]
    },
    {
      "cell_type": "markdown",
      "metadata": {
        "id": "cQc37itksBwS"
      },
      "source": [
        "4.  Try writing an expression that is true unless both a and b are True."
      ]
    },
    {
      "cell_type": "code",
      "execution_count": 12,
      "metadata": {
        "id": "CAmq0Q4ssHL8",
        "colab": {
          "base_uri": "https://localhost:8080/"
        },
        "outputId": "2c516a05-d5b3-443b-e2e5-7304ac680392"
      },
      "outputs": [
        {
          "output_type": "execute_result",
          "data": {
            "text/plain": [
              "True"
            ]
          },
          "metadata": {},
          "execution_count": 12
        }
      ],
      "source": [
        "a = True\n",
        "b = False\n",
        "result = (not a and not b) or (not a and b) or (a and not b)\n",
        "result"
      ]
    },
    {
      "cell_type": "markdown",
      "metadata": {
        "id": "EVo68B54UEu7"
      },
      "source": [
        "5.  Write code that prints a different message depending on whether the variable *a* is positive (print \"Positive\"), negative (print \"Negative\"), or 0 (print \"Zero\")."
      ]
    },
    {
      "cell_type": "code",
      "execution_count": 16,
      "metadata": {
        "id": "V6M-_gvYVPA1",
        "colab": {
          "base_uri": "https://localhost:8080/"
        },
        "outputId": "69bb440b-7573-490e-a046-a940407c9628"
      },
      "outputs": [
        {
          "output_type": "stream",
          "name": "stdout",
          "text": [
            "Positive\n"
          ]
        }
      ],
      "source": [
        "a = 5\n",
        "if a > 0:\n",
        "  toprint = \"Positive\"\n",
        "elif a < 0:\n",
        "  toprint = \"Negative\"\n",
        "else:\n",
        "  toprint = \"Zero\"\n",
        "print(toprint)"
      ]
    },
    {
      "cell_type": "markdown",
      "metadata": {
        "id": "yE6XCjnAVb4U"
      },
      "source": [
        "6.  Define a list with 4 items in it.  Then write a line that adds a fifth element to the list."
      ]
    },
    {
      "cell_type": "code",
      "execution_count": 37,
      "metadata": {
        "id": "GIG3v8bFWA6n",
        "colab": {
          "base_uri": "https://localhost:8080/"
        },
        "outputId": "dd610c5a-9a0d-41d0-9b7a-52d8d9c215d7"
      },
      "outputs": [
        {
          "output_type": "execute_result",
          "data": {
            "text/plain": [
              "[4, 2, 6, 3, 4]"
            ]
          },
          "metadata": {},
          "execution_count": 37
        }
      ],
      "source": [
        "listtbh = [4, 2, 6, 3]\n",
        "listtbh.append(4)\n",
        "listtbh"
      ]
    },
    {
      "cell_type": "markdown",
      "metadata": {
        "id": "uDCPQZx5VPW3"
      },
      "source": [
        "7.  Write code that takes the list represented by the variable L and pads it with a 0 if the list is of an odd length.  For example, [1,2,3] becomes [1,2,3,0] while [1,2] stays [1,2]."
      ]
    },
    {
      "cell_type": "code",
      "source": [
        "L.append(0)\n",
        "print(L)"
      ],
      "metadata": {
        "colab": {
          "base_uri": "https://localhost:8080/"
        },
        "id": "6AwCRI2QnHT0",
        "outputId": "815c9d86-8c27-4fb5-e209-26f555a9e5ba"
      },
      "execution_count": 42,
      "outputs": [
        {
          "output_type": "stream",
          "name": "stdout",
          "text": [
            "[1, 2, 3, 0, 0]\n"
          ]
        }
      ]
    },
    {
      "cell_type": "code",
      "execution_count": 45,
      "metadata": {
        "id": "SvJjs3vWVPW4",
        "colab": {
          "base_uri": "https://localhost:8080/"
        },
        "outputId": "581f85df-c1df-4012-c08e-7767919e45ab"
      },
      "outputs": [
        {
          "output_type": "stream",
          "name": "stdout",
          "text": [
            "None\n"
          ]
        }
      ],
      "source": [
        "L = [1, 2, 3]\n",
        "if len(L) % 2 == 0:\n",
        "  toprint = L\n",
        "elif len(L) % 2 != 0:\n",
        "  toprint = L.append(0)\n"
      ]
    },
    {
      "cell_type": "markdown",
      "metadata": {
        "id": "ESAHHCntVPW5"
      },
      "source": [
        "# Tool focus:  Version Control\n",
        "\n",
        "Have you ever worked on a project where you needed to pass around a file to modify?  You probably were a little discontent with the process.  Near the end, it may have been hard to determine whether FinalFinal.docx was really your most recent copy, or if there might be a FinalFinalFinal.docx that was more recent.  If you were collaborating, it may have been annoying to try to keep people from working on the same stuff simultaneously.  And if you wanted to go back to an earlier version, you could only hope you saved a separate version around the right time."
      ]
    },
    {
      "cell_type": "markdown",
      "metadata": {
        "id": "udTX5N4jVPW7"
      },
      "source": [
        "*Version control*, and the git/Github software and site in particular, is the programmer's answer to all the aforementioned problems.\n",
        "\n",
        "* A central server keeps track of a series of versions of the code.  It's always clear what the most recent version is, and it's relatively easy to go back to an earlier version.  If code becomes buggy, this helps determine when the bug was introduced.\n",
        "\n",
        "* When people get copies to work on locally, on their own machines, they create their own individual histories locally.  People are free to ignore their collaborators' work until they merge their changes back into the central repository.\n",
        "\n",
        "* When it's time to merge local changes into the central repository, the code is scanned for differences, and any discrepancies resulting from others' changes are highlighted and resolved."
      ]
    },
    {
      "cell_type": "markdown",
      "metadata": {
        "id": "CcAf0OaOVPW9"
      },
      "source": [
        "If you become familiar with version control now, it may especially help with the final project, where you will have multiple individuals trying to work with the same files at the same time."
      ]
    },
    {
      "cell_type": "markdown",
      "metadata": {
        "id": "dqyD92YmVPW_"
      },
      "source": [
        "* If you do not already have a github account, go create one now at:  https://github.com/\n",
        "* Once you've created an account, create a new repository.  If you don't see the big green button immediately, you can click on yourself, then on \"Respositories,\" then \"New\" in the upper right.\n",
        "* Name your repository something arbitrary, like \"repo_test.\"  Also make it private.  The other options don't really matter right now.\n",
        "* Assuming you are doing this recitation in Colab, go to File->Save a copy in GitHub.  Choose your notebook and save it to GitHub!  (You might also change the commit message - this is a good habit to get into so that you can find particular versions later.)\n",
        "* Check the repo on the GitHub website (under your username->Repositories), and verify that your code is now on the web (privately, assuming you chose \"private\")."
      ]
    },
    {
      "cell_type": "markdown",
      "metadata": {
        "id": "6s-gHG5EVPXA"
      },
      "source": [
        "* Now let's try going back to an earlier version.  Fill the following code box with junk, and File->Save a copy in GitHub."
      ]
    },
    {
      "cell_type": "code",
      "execution_count": null,
      "metadata": {
        "id": "WyQG1aSwVPXB"
      },
      "outputs": [],
      "source": []
    },
    {
      "cell_type": "markdown",
      "metadata": {
        "id": "KMTjJVomVPXC"
      },
      "source": [
        "* You can now see both versions of the notebook in the GitHub repository history.  (Repositories->your_repo_name->your_filename->History, with the clock icon.)\n",
        "* To open the most recent version, go to \"File->Open Notebook\" in Colab and choose the GitHub tab at the top.  Choose your repo and open it.\n",
        "* You can also access the versions in your history from Colab.  Go to File->Revision History.  (Notice that the right-hand side displays differences between the files.)  The dots next to each item in the history have the option of Open in Colab.  Try restoring an old version now."
      ]
    },
    {
      "cell_type": "markdown",
      "metadata": {
        "id": "bOtQmQ95VPXC"
      },
      "source": [
        "* Last, try collaborating with someone on this file.  Within your repo on GitHub, go to Settings->Collaborators->Add people.  Add someone in your section who is willing to share their username with you.  \"Sign\" each others' work in the last text box, and show this along with your completed code to the TA to finish this section."
      ]
    },
    {
      "cell_type": "markdown",
      "metadata": {
        "id": "YxrCBfTyVPXD"
      },
      "source": [
        "**Your collaborator's \"signature\" here**"
      ]
    },
    {
      "cell_type": "code",
      "execution_count": null,
      "metadata": {
        "id": "lx88wbtSVPXE"
      },
      "outputs": [],
      "source": []
    }
  ],
  "metadata": {
    "colab": {
      "provenance": []
    },
    "kernelspec": {
      "display_name": "Python 3",
      "language": "python",
      "name": "python3"
    },
    "language_info": {
      "codemirror_mode": {
        "name": "ipython",
        "version": 3
      },
      "file_extension": ".py",
      "mimetype": "text/x-python",
      "name": "python",
      "nbconvert_exporter": "python",
      "pygments_lexer": "ipython3",
      "version": "3.8.8"
    }
  },
  "nbformat": 4,
  "nbformat_minor": 0
}